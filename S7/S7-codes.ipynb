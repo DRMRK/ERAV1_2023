{
 "cells": [
  {
   "cell_type": "code",
   "execution_count": 1,
   "metadata": {},
   "outputs": [],
   "source": [
    "import torch\n",
    "import torch.optim as optim\n",
    "import torch.nn.functional as F\n",
    "from torchvision import datasets, transforms\n",
    "\n",
    "import utils as utils\n",
    "import model as model\n",
    "from model import (\n",
    "    model_0,\n",
    "    model_1,\n",
    "    model_1_4,\n",
    "    model_2,\n",
    "    model_3,\n",
    "    model_summary,\n",
    "    model_train,\n",
    "    model_test,\n",
    ")"
   ]
  },
  {
   "cell_type": "markdown",
   "metadata": {},
   "source": [
    "### Model_0"
   ]
  },
  {
   "cell_type": "code",
   "execution_count": 2,
   "metadata": {},
   "outputs": [
    {
     "name": "stdout",
     "output_type": "stream",
     "text": [
      "----------------------------------------------------------------\n",
      "        Layer (type)               Output Shape         Param #\n",
      "================================================================\n",
      "            Conv2d-1           [-1, 16, 26, 26]             144\n",
      "              ReLU-2           [-1, 16, 26, 26]               0\n",
      "         MaxPool2d-3           [-1, 16, 13, 13]               0\n",
      "            Conv2d-4           [-1, 16, 11, 11]           2,304\n",
      "              ReLU-5           [-1, 16, 11, 11]               0\n",
      "         MaxPool2d-6             [-1, 16, 5, 5]               0\n",
      "            Conv2d-7             [-1, 16, 3, 3]           2,304\n",
      "              ReLU-8             [-1, 16, 3, 3]               0\n",
      "            Conv2d-9             [-1, 16, 1, 1]           2,304\n",
      "             ReLU-10             [-1, 16, 1, 1]               0\n",
      "           Linear-11                   [-1, 10]             170\n",
      "             ReLU-12                   [-1, 10]               0\n",
      "================================================================\n",
      "Total params: 7,226\n",
      "Trainable params: 7,226\n",
      "Non-trainable params: 0\n",
      "----------------------------------------------------------------\n",
      "Input size (MB): 0.00\n",
      "Forward/backward pass size (MB): 0.22\n",
      "Params size (MB): 0.03\n",
      "Estimated Total Size (MB): 0.25\n",
      "----------------------------------------------------------------\n"
     ]
    }
   ],
   "source": [
    "device = \"cpu\"\n",
    "my_model = model_0().to(device)\n",
    "model_summary(my_model,(1,28,28))"
   ]
  },
  {
   "cell_type": "code",
   "execution_count": 3,
   "metadata": {},
   "outputs": [],
   "source": [
    "# CUDA?\n",
    "#cuda = torch.cuda.is_available()\n",
    "#print(\"CUDA Available?\", cuda)"
   ]
  },
  {
   "cell_type": "markdown",
   "metadata": {},
   "source": [
    "##### Download the training and the test data"
   ]
  },
  {
   "cell_type": "code",
   "execution_count": 2,
   "metadata": {},
   "outputs": [],
   "source": [
    "train_data = datasets.MNIST('../data', train=True, download=True, transform=model.train_transforms())\n",
    "test_data = datasets.MNIST('../data', train=False, download=True, transform=model.test_transforms())"
   ]
  },
  {
   "cell_type": "markdown",
   "metadata": {},
   "source": [
    "##### Build the dataloaders"
   ]
  },
  {
   "cell_type": "code",
   "execution_count": 3,
   "metadata": {},
   "outputs": [],
   "source": [
    "batch_size = 512\n",
    "\n",
    "kwargs = {\n",
    "    \"batch_size\": batch_size,\n",
    "    \"shuffle\": True,\n",
    "    \"num_workers\": 2,\n",
    "    \"pin_memory\": True,\n",
    "}\n",
    "test_loader = torch.utils.data.DataLoader(test_data, **kwargs)\n",
    "train_loader = torch.utils.data.DataLoader(train_data, **kwargs)"
   ]
  },
  {
   "cell_type": "markdown",
   "metadata": {},
   "source": [
    "##### Look at some of the data"
   ]
  },
  {
   "cell_type": "code",
   "execution_count": 4,
   "metadata": {},
   "outputs": [
    {
     "data": {
      "image/png": "[encoded data removed]",
      "text/plain": [
       "<Figure size 640x480 with 12 Axes>"
      ]
     },
     "metadata": {},
     "output_type": "display_data"
    }
   ],
   "source": [
    "utils.return_dataset_images(train_loader, 12)"
   ]
  },
  {
   "cell_type": "markdown",
   "metadata": {},
   "source": [
    "##### Initialize variables to use in making plots later on"
   ]
  },
  {
   "cell_type": "code",
   "execution_count": 5,
   "metadata": {},
   "outputs": [],
   "source": [
    "# Data to plot accuracy and loss graphs\n",
    "train_losses = []\n",
    "test_losses = []\n",
    "train_acc = []\n",
    "test_acc = []\n",
    "\n",
    "test_incorrect_pred = {'images': [], 'ground_truths': [], 'predicted_vals': []}"
   ]
  },
  {
   "cell_type": "code",
   "execution_count": 8,
   "metadata": {
    "scrolled": false
   },
   "outputs": [
    {
     "name": "stdout",
     "output_type": "stream",
     "text": [
      "Adjusting learning rate of group 0 to 1.0000e-01.\n",
      "Epoch 1\n"
     ]
    },
    {
     "name": "stderr",
     "output_type": "stream",
     "text": [
      "Train: Loss=0.6405 Batch_id=117 Accuracy=58.60: 100%|█| 118/118 [00:\n"
     ]
    },
    {
     "name": "stdout",
     "output_type": "stream",
     "text": [
      "Test set: Average loss: 0.5973, Accuracy: 7681/10000 (76.81%)\n",
      "\n",
      "Adjusting learning rate of group 0 to 1.0000e-01.\n",
      "Epoch 2\n"
     ]
    },
    {
     "name": "stderr",
     "output_type": "stream",
     "text": [
      "Train: Loss=0.2941 Batch_id=117 Accuracy=82.47: 100%|█| 118/118 [00:\n"
     ]
    },
    {
     "name": "stdout",
     "output_type": "stream",
     "text": [
      "Test set: Average loss: 0.3440, Accuracy: 8726/10000 (87.26%)\n",
      "\n",
      "Adjusting learning rate of group 0 to 1.0000e-01.\n",
      "Epoch 3\n"
     ]
    },
    {
     "name": "stderr",
     "output_type": "stream",
     "text": [
      "Train: Loss=0.2801 Batch_id=117 Accuracy=87.96: 100%|█| 118/118 [00:\n"
     ]
    },
    {
     "name": "stdout",
     "output_type": "stream",
     "text": [
      "Test set: Average loss: 0.2995, Accuracy: 8835/10000 (88.35%)\n",
      "\n",
      "Adjusting learning rate of group 0 to 1.0000e-01.\n",
      "Epoch 4\n"
     ]
    },
    {
     "name": "stderr",
     "output_type": "stream",
     "text": [
      "Train: Loss=0.1361 Batch_id=117 Accuracy=88.30: 100%|█| 118/118 [00:\n"
     ]
    },
    {
     "name": "stdout",
     "output_type": "stream",
     "text": [
      "Test set: Average loss: 0.2938, Accuracy: 8841/10000 (88.41%)\n",
      "\n",
      "Adjusting learning rate of group 0 to 1.0000e-01.\n",
      "Epoch 5\n"
     ]
    },
    {
     "name": "stderr",
     "output_type": "stream",
     "text": [
      "Train: Loss=0.2664 Batch_id=117 Accuracy=88.54: 100%|█| 118/118 [00:\n"
     ]
    },
    {
     "name": "stdout",
     "output_type": "stream",
     "text": [
      "Test set: Average loss: 0.2864, Accuracy: 8858/10000 (88.58%)\n",
      "\n",
      "Adjusting learning rate of group 0 to 1.0000e-02.\n",
      "Epoch 6\n"
     ]
    },
    {
     "name": "stderr",
     "output_type": "stream",
     "text": [
      "Train: Loss=0.1378 Batch_id=117 Accuracy=89.20: 100%|█| 118/118 [00:\n"
     ]
    },
    {
     "name": "stdout",
     "output_type": "stream",
     "text": [
      "Test set: Average loss: 0.2693, Accuracy: 8898/10000 (88.98%)\n",
      "\n",
      "Adjusting learning rate of group 0 to 1.0000e-02.\n",
      "Epoch 7\n"
     ]
    },
    {
     "name": "stderr",
     "output_type": "stream",
     "text": [
      "Train: Loss=0.2053 Batch_id=117 Accuracy=89.28: 100%|█| 118/118 [00:\n"
     ]
    },
    {
     "name": "stdout",
     "output_type": "stream",
     "text": [
      "Test set: Average loss: 0.2686, Accuracy: 8905/10000 (89.05%)\n",
      "\n",
      "Adjusting learning rate of group 0 to 1.0000e-02.\n",
      "Epoch 8\n"
     ]
    },
    {
     "name": "stderr",
     "output_type": "stream",
     "text": [
      "Train: Loss=0.1322 Batch_id=117 Accuracy=89.27: 100%|█| 118/118 [00:\n"
     ]
    },
    {
     "name": "stdout",
     "output_type": "stream",
     "text": [
      "Test set: Average loss: 0.2676, Accuracy: 8900/10000 (89.00%)\n",
      "\n",
      "Adjusting learning rate of group 0 to 1.0000e-02.\n",
      "Epoch 9\n"
     ]
    },
    {
     "name": "stderr",
     "output_type": "stream",
     "text": [
      "Train: Loss=0.3414 Batch_id=117 Accuracy=89.32: 100%|█| 118/118 [00:\n"
     ]
    },
    {
     "name": "stdout",
     "output_type": "stream",
     "text": [
      "Test set: Average loss: 0.2683, Accuracy: 8904/10000 (89.04%)\n",
      "\n",
      "Adjusting learning rate of group 0 to 1.0000e-02.\n",
      "Epoch 10\n"
     ]
    },
    {
     "name": "stderr",
     "output_type": "stream",
     "text": [
      "Train: Loss=0.2207 Batch_id=117 Accuracy=89.33: 100%|█| 118/118 [00:\n"
     ]
    },
    {
     "name": "stdout",
     "output_type": "stream",
     "text": [
      "Test set: Average loss: 0.2687, Accuracy: 8899/10000 (88.99%)\n",
      "\n",
      "Adjusting learning rate of group 0 to 1.0000e-03.\n",
      "Epoch 11\n"
     ]
    },
    {
     "name": "stderr",
     "output_type": "stream",
     "text": [
      "Train: Loss=0.1874 Batch_id=117 Accuracy=89.38: 100%|█| 118/118 [00:\n"
     ]
    },
    {
     "name": "stdout",
     "output_type": "stream",
     "text": [
      "Test set: Average loss: 0.2675, Accuracy: 8905/10000 (89.05%)\n",
      "\n",
      "Adjusting learning rate of group 0 to 1.0000e-03.\n",
      "Epoch 12\n"
     ]
    },
    {
     "name": "stderr",
     "output_type": "stream",
     "text": [
      "Train: Loss=0.2238 Batch_id=117 Accuracy=89.40: 100%|█| 118/118 [00:\n"
     ]
    },
    {
     "name": "stdout",
     "output_type": "stream",
     "text": [
      "Test set: Average loss: 0.2673, Accuracy: 8904/10000 (89.04%)\n",
      "\n",
      "Adjusting learning rate of group 0 to 1.0000e-03.\n",
      "Epoch 13\n"
     ]
    },
    {
     "name": "stderr",
     "output_type": "stream",
     "text": [
      "Train: Loss=0.2677 Batch_id=117 Accuracy=89.40: 100%|█| 118/118 [00:\n"
     ]
    },
    {
     "name": "stdout",
     "output_type": "stream",
     "text": [
      "Test set: Average loss: 0.2672, Accuracy: 8904/10000 (89.04%)\n",
      "\n",
      "Adjusting learning rate of group 0 to 1.0000e-03.\n",
      "Epoch 14\n"
     ]
    },
    {
     "name": "stderr",
     "output_type": "stream",
     "text": [
      "Train: Loss=0.2900 Batch_id=117 Accuracy=89.39: 100%|█| 118/118 [00:\n"
     ]
    },
    {
     "name": "stdout",
     "output_type": "stream",
     "text": [
      "Test set: Average loss: 0.2673, Accuracy: 8905/10000 (89.05%)\n",
      "\n",
      "Adjusting learning rate of group 0 to 1.0000e-03.\n",
      "Epoch 15\n"
     ]
    },
    {
     "name": "stderr",
     "output_type": "stream",
     "text": [
      "Train: Loss=0.2511 Batch_id=117 Accuracy=89.39: 100%|█| 118/118 [00:\n"
     ]
    },
    {
     "name": "stdout",
     "output_type": "stream",
     "text": [
      "Test set: Average loss: 0.2673, Accuracy: 8903/10000 (89.03%)\n",
      "\n",
      "Adjusting learning rate of group 0 to 1.0000e-04.\n"
     ]
    }
   ],
   "source": [
    "optimizer = optim.SGD(my_model.parameters(), lr=0.1, momentum=0.9)\n",
    "scheduler = optim.lr_scheduler.StepLR(optimizer, step_size=5, gamma=0.1, verbose=True)\n",
    "# New Line\n",
    "#criterion = nn.CrossEntropyLoss()\n",
    "criterion = F.nll_loss\n",
    "num_epochs = 15\n",
    "\n",
    "for epoch in range(1, num_epochs+1):\n",
    "    print(f'Epoch {epoch}')\n",
    "    train_acc, train_losses = model_train(my_model, \n",
    "                                        device, \n",
    "                                        train_loader,\n",
    "                                        optimizer, \n",
    "                                        criterion, \n",
    "                                        train_acc,\n",
    "                                        train_losses,)\n",
    "    test_acc, test_losses = model_test(my_model, \n",
    "                                     device, \n",
    "                                     test_loader, \n",
    "                                     criterion,\n",
    "                                     test_acc,\n",
    "                                     test_losses)\n",
    "    scheduler.step()"
   ]
  },
  {
   "cell_type": "markdown",
   "metadata": {},
   "source": [
    "## Summary\n",
    "#### Base model: model_0\n",
    "- Target:  get the basic structure, a model that predicts something.\n",
    "-  Started with one conv block and then a fully connected layer,\n",
    "-  realized adding conv reduces number of parameters\n",
    "-  while increasing what the model learns. Kept adding conv blocks until close to 8000 parameters\n",
    "- Only this in augmentation: transforms.ToTensor(), transforms.Normalize((0.1307,), (0.3081,)),\n",
    "#### Results:\n",
    "- Parameters: 7,226, best train accuracy: 89.39. best test accuracy: 89.03\n",
    "\n",
    "##### Analysis:\n",
    "- Model is small, works.\n",
    "- Train accuracy is higher than test, hint of over fitting\n"
   ]
  },
  {
   "cell_type": "markdown",
   "metadata": {},
   "source": [
    "# Model_1\n",
    "- Target:  Improve on the test accuracy\n",
    "- Started with adding Batchnorm to one layer, saw improvement, so kept adding to other layers."
   ]
  },
  {
   "cell_type": "code",
   "execution_count": 6,
   "metadata": {},
   "outputs": [
    {
     "name": "stdout",
     "output_type": "stream",
     "text": [
      "----------------------------------------------------------------\n",
      "        Layer (type)               Output Shape         Param #\n",
      "================================================================\n",
      "            Conv2d-1           [-1, 16, 26, 26]             144\n",
      "              ReLU-2           [-1, 16, 26, 26]               0\n",
      "         MaxPool2d-3           [-1, 16, 13, 13]               0\n",
      "       BatchNorm2d-4           [-1, 16, 13, 13]              32\n",
      "            Conv2d-5           [-1, 16, 11, 11]           2,304\n",
      "              ReLU-6           [-1, 16, 11, 11]               0\n",
      "         MaxPool2d-7             [-1, 16, 5, 5]               0\n",
      "       BatchNorm2d-8             [-1, 16, 5, 5]              32\n",
      "            Conv2d-9             [-1, 16, 3, 3]           2,304\n",
      "             ReLU-10             [-1, 16, 3, 3]               0\n",
      "           Conv2d-11             [-1, 16, 1, 1]           2,304\n",
      "             ReLU-12             [-1, 16, 1, 1]               0\n",
      "      BatchNorm2d-13             [-1, 16, 1, 1]              32\n",
      "           Linear-14                   [-1, 10]             170\n",
      "             ReLU-15                   [-1, 10]               0\n",
      "================================================================\n",
      "Total params: 7,322\n",
      "Trainable params: 7,322\n",
      "Non-trainable params: 0\n",
      "----------------------------------------------------------------\n",
      "Input size (MB): 0.00\n",
      "Forward/backward pass size (MB): 0.24\n",
      "Params size (MB): 0.03\n",
      "Estimated Total Size (MB): 0.28\n",
      "----------------------------------------------------------------\n"
     ]
    }
   ],
   "source": [
    "device = \"cpu\"\n",
    "my_model = model_1().to(device)\n",
    "model_summary(my_model,(1,28,28))"
   ]
  },
  {
   "cell_type": "markdown",
   "metadata": {},
   "source": [
    "##### Train a model"
   ]
  },
  {
   "cell_type": "code",
   "execution_count": 9,
   "metadata": {},
   "outputs": [
    {
     "name": "stdout",
     "output_type": "stream",
     "text": [
      "Adjusting learning rate of group 0 to 1.0000e-02.\n",
      "Epoch 1\n"
     ]
    },
    {
     "name": "stderr",
     "output_type": "stream",
     "text": [
      "Train: Loss=0.1185 Batch_id=117 Accuracy=86.65: 100%|█| 1\n"
     ]
    },
    {
     "name": "stdout",
     "output_type": "stream",
     "text": [
      "Test set: Average loss: 0.1450, Accuracy: 9723/10000 (97.23%)\n",
      "\n",
      "Adjusting learning rate of group 0 to 1.0000e-02.\n",
      "Epoch 2\n"
     ]
    },
    {
     "name": "stderr",
     "output_type": "stream",
     "text": [
      "Train: Loss=0.0730 Batch_id=117 Accuracy=97.58: 100%|█| 1\n"
     ]
    },
    {
     "name": "stdout",
     "output_type": "stream",
     "text": [
      "Test set: Average loss: 0.0806, Accuracy: 9821/10000 (98.21%)\n",
      "\n",
      "Adjusting learning rate of group 0 to 1.0000e-02.\n",
      "Epoch 3\n"
     ]
    },
    {
     "name": "stderr",
     "output_type": "stream",
     "text": [
      "Train: Loss=0.0658 Batch_id=117 Accuracy=98.33: 100%|█| 1\n"
     ]
    },
    {
     "name": "stdout",
     "output_type": "stream",
     "text": [
      "Test set: Average loss: 0.0594, Accuracy: 9842/10000 (98.42%)\n",
      "\n",
      "Adjusting learning rate of group 0 to 1.0000e-02.\n",
      "Epoch 4\n"
     ]
    },
    {
     "name": "stderr",
     "output_type": "stream",
     "text": [
      "Train: Loss=0.0406 Batch_id=117 Accuracy=98.63: 100%|█| 1\n"
     ]
    },
    {
     "name": "stdout",
     "output_type": "stream",
     "text": [
      "Test set: Average loss: 0.0517, Accuracy: 9868/10000 (98.68%)\n",
      "\n",
      "Adjusting learning rate of group 0 to 1.0000e-02.\n",
      "Epoch 5\n"
     ]
    },
    {
     "name": "stderr",
     "output_type": "stream",
     "text": [
      "Train: Loss=0.0294 Batch_id=117 Accuracy=98.87: 100%|█| 1\n"
     ]
    },
    {
     "name": "stdout",
     "output_type": "stream",
     "text": [
      "Test set: Average loss: 0.0445, Accuracy: 9875/10000 (98.75%)\n",
      "\n",
      "Adjusting learning rate of group 0 to 1.0000e-02.\n",
      "Epoch 6\n"
     ]
    },
    {
     "name": "stderr",
     "output_type": "stream",
     "text": [
      "Train: Loss=0.0233 Batch_id=117 Accuracy=99.00: 100%|█| 1\n"
     ]
    },
    {
     "name": "stdout",
     "output_type": "stream",
     "text": [
      "Test set: Average loss: 0.0428, Accuracy: 9877/10000 (98.77%)\n",
      "\n",
      "Adjusting learning rate of group 0 to 1.0000e-02.\n",
      "Epoch 7\n"
     ]
    },
    {
     "name": "stderr",
     "output_type": "stream",
     "text": [
      "Train: Loss=0.0547 Batch_id=117 Accuracy=99.12: 100%|█| 1\n"
     ]
    },
    {
     "name": "stdout",
     "output_type": "stream",
     "text": [
      "Test set: Average loss: 0.0413, Accuracy: 9878/10000 (98.78%)\n",
      "\n",
      "Adjusting learning rate of group 0 to 1.0000e-02.\n",
      "Epoch 8\n"
     ]
    },
    {
     "name": "stderr",
     "output_type": "stream",
     "text": [
      "Train: Loss=0.0248 Batch_id=117 Accuracy=99.21: 100%|█| 1\n"
     ]
    },
    {
     "name": "stdout",
     "output_type": "stream",
     "text": [
      "Test set: Average loss: 0.0399, Accuracy: 9881/10000 (98.81%)\n",
      "\n",
      "Adjusting learning rate of group 0 to 1.0000e-02.\n",
      "Epoch 9\n"
     ]
    },
    {
     "name": "stderr",
     "output_type": "stream",
     "text": [
      "Train: Loss=0.0617 Batch_id=117 Accuracy=99.28: 100%|█| 1\n"
     ]
    },
    {
     "name": "stdout",
     "output_type": "stream",
     "text": [
      "Test set: Average loss: 0.0359, Accuracy: 9895/10000 (98.95%)\n",
      "\n",
      "Adjusting learning rate of group 0 to 1.0000e-02.\n",
      "Epoch 10\n"
     ]
    },
    {
     "name": "stderr",
     "output_type": "stream",
     "text": [
      "Train: Loss=0.0109 Batch_id=117 Accuracy=99.35: 100%|█| 1\n"
     ]
    },
    {
     "name": "stdout",
     "output_type": "stream",
     "text": [
      "Test set: Average loss: 0.0357, Accuracy: 9895/10000 (98.95%)\n",
      "\n",
      "Adjusting learning rate of group 0 to 1.0000e-02.\n",
      "Epoch 11\n"
     ]
    },
    {
     "name": "stderr",
     "output_type": "stream",
     "text": [
      "Train: Loss=0.0423 Batch_id=117 Accuracy=99.45: 100%|█| 1\n"
     ]
    },
    {
     "name": "stdout",
     "output_type": "stream",
     "text": [
      "Test set: Average loss: 0.0352, Accuracy: 9896/10000 (98.96%)\n",
      "\n",
      "Adjusting learning rate of group 0 to 1.0000e-02.\n",
      "Epoch 12\n"
     ]
    },
    {
     "name": "stderr",
     "output_type": "stream",
     "text": [
      "Train: Loss=0.0338 Batch_id=117 Accuracy=99.49: 100%|█| 1\n"
     ]
    },
    {
     "name": "stdout",
     "output_type": "stream",
     "text": [
      "Test set: Average loss: 0.0358, Accuracy: 9895/10000 (98.95%)\n",
      "\n",
      "Adjusting learning rate of group 0 to 1.0000e-02.\n",
      "Epoch 13\n"
     ]
    },
    {
     "name": "stderr",
     "output_type": "stream",
     "text": [
      "Train: Loss=0.0096 Batch_id=117 Accuracy=99.56: 100%|█| 1\n"
     ]
    },
    {
     "name": "stdout",
     "output_type": "stream",
     "text": [
      "Test set: Average loss: 0.0348, Accuracy: 9897/10000 (98.97%)\n",
      "\n",
      "Adjusting learning rate of group 0 to 1.0000e-02.\n",
      "Epoch 14\n"
     ]
    },
    {
     "name": "stderr",
     "output_type": "stream",
     "text": [
      "Train: Loss=0.0219 Batch_id=117 Accuracy=99.60: 100%|█| 1\n"
     ]
    },
    {
     "name": "stdout",
     "output_type": "stream",
     "text": [
      "Test set: Average loss: 0.0379, Accuracy: 9884/10000 (98.84%)\n",
      "\n",
      "Adjusting learning rate of group 0 to 1.0000e-02.\n",
      "Epoch 15\n"
     ]
    },
    {
     "name": "stderr",
     "output_type": "stream",
     "text": [
      "Train: Loss=0.0177 Batch_id=117 Accuracy=99.62: 100%|█| 1\n"
     ]
    },
    {
     "name": "stdout",
     "output_type": "stream",
     "text": [
      "Test set: Average loss: 0.0342, Accuracy: 9895/10000 (98.95%)\n",
      "\n",
      "Adjusting learning rate of group 0 to 1.0000e-03.\n"
     ]
    }
   ],
   "source": [
    "optimizer = optim.SGD(my_model.parameters(), lr=0.01, momentum=0.9)\n",
    "scheduler = optim.lr_scheduler.StepLR(optimizer, step_size=15, gamma=0.1, verbose=True)\n",
    "# New Line\n",
    "#criterion = nn.CrossEntropyLoss()\n",
    "criterion = F.nll_loss\n",
    "num_epochs = 15\n",
    "\n",
    "for epoch in range(1, num_epochs+1):\n",
    "    print(f'Epoch {epoch}')\n",
    "    train_acc, train_losses = model_train(my_model, \n",
    "                                        device, \n",
    "                                        train_loader,\n",
    "                                        optimizer, \n",
    "                                        criterion, \n",
    "                                        train_acc,\n",
    "                                        train_losses,)\n",
    "    test_acc, test_losses = model_test(my_model, \n",
    "                                     device, \n",
    "                                     test_loader, \n",
    "                                     criterion,\n",
    "                                     test_acc,\n",
    "                                     test_losses)\n",
    "    scheduler.step()"
   ]
  },
  {
   "cell_type": "markdown",
   "metadata": {},
   "source": [
    "##### Visualize the training performance "
   ]
  },
  {
   "cell_type": "code",
   "execution_count": 10,
   "metadata": {},
   "outputs": [
    {
     "data": {
      "image/png": "[encoded data removed]",
      "text/plain": [
       "<Figure size 1500x1000 with 4 Axes>"
      ]
     },
     "metadata": {},
     "output_type": "display_data"
    }
   ],
   "source": [
    "utils.plot_losses_accuracies(train_acc, train_losses, test_acc, test_losses,)"
   ]
  },
  {
   "cell_type": "markdown",
   "metadata": {},
   "source": [
    "###  model: model_1\n",
    "- Target:  Improve on the test accuracy\n",
    "- Started with adding Batchnorm to one layer, saw improvement, so kept adding to other layers.\n",
    "\n",
    "#### Results:\n",
    "- Parameters: 7,322, best train accuracy: 99.62. best test accuracy: 98.95\n",
    "\n",
    "\n",
    "#### Analysis:\n",
    "- Model is small, overfits, needs regularization."
   ]
  },
  {
   "cell_type": "markdown",
   "metadata": {},
   "source": [
    "# Model 2\n",
    "- Target:  Reduce over fitting and improve test accuracy\n",
    "- Started with adding Dropout to one layer, saw improvement, so kept adding to other layers."
   ]
  },
  {
   "cell_type": "code",
   "execution_count": 7,
   "metadata": {},
   "outputs": [
    {
     "name": "stdout",
     "output_type": "stream",
     "text": [
      "----------------------------------------------------------------\n",
      "        Layer (type)               Output Shape         Param #\n",
      "================================================================\n",
      "            Conv2d-1           [-1, 16, 26, 26]             144\n",
      "              ReLU-2           [-1, 16, 26, 26]               0\n",
      "         MaxPool2d-3           [-1, 16, 13, 13]               0\n",
      "       BatchNorm2d-4           [-1, 16, 13, 13]              32\n",
      "           Dropout-5           [-1, 16, 13, 13]               0\n",
      "            Conv2d-6           [-1, 16, 11, 11]           2,304\n",
      "              ReLU-7           [-1, 16, 11, 11]               0\n",
      "         MaxPool2d-8             [-1, 16, 5, 5]               0\n",
      "       BatchNorm2d-9             [-1, 16, 5, 5]              32\n",
      "           Conv2d-10             [-1, 16, 3, 3]           2,304\n",
      "             ReLU-11             [-1, 16, 3, 3]               0\n",
      "           Conv2d-12             [-1, 16, 1, 1]           2,304\n",
      "             ReLU-13             [-1, 16, 1, 1]               0\n",
      "      BatchNorm2d-14             [-1, 16, 1, 1]              32\n",
      "           Linear-15                   [-1, 10]             170\n",
      "             ReLU-16                   [-1, 10]               0\n",
      "================================================================\n",
      "Total params: 7,322\n",
      "Trainable params: 7,322\n",
      "Non-trainable params: 0\n",
      "----------------------------------------------------------------\n",
      "Input size (MB): 0.00\n",
      "Forward/backward pass size (MB): 0.27\n",
      "Params size (MB): 0.03\n",
      "Estimated Total Size (MB): 0.30\n",
      "----------------------------------------------------------------\n"
     ]
    }
   ],
   "source": [
    "device = \"cpu\"\n",
    "my_model = model_2().to(device)\n",
    "model_summary(my_model,(1,28,28))"
   ]
  },
  {
   "cell_type": "markdown",
   "metadata": {},
   "source": [
    "### Train a model"
   ]
  },
  {
   "cell_type": "code",
   "execution_count": 8,
   "metadata": {},
   "outputs": [
    {
     "name": "stdout",
     "output_type": "stream",
     "text": [
      "Adjusting learning rate of group 0 to 1.0000e-01.\n",
      "Epoch 1\n"
     ]
    },
    {
     "name": "stderr",
     "output_type": "stream",
     "text": [
      "Train: Loss=0.0957 Batch_id=117 Accuracy=92.97: 100%|█| 1\n"
     ]
    },
    {
     "name": "stdout",
     "output_type": "stream",
     "text": [
      "Test set: Average loss: 0.0647, Accuracy: 9787/10000 (97.87%)\n",
      "\n",
      "Adjusting learning rate of group 0 to 1.0000e-01.\n",
      "Epoch 2\n"
     ]
    },
    {
     "name": "stderr",
     "output_type": "stream",
     "text": [
      "Train: Loss=0.0326 Batch_id=117 Accuracy=98.23: 100%|█| 1\n"
     ]
    },
    {
     "name": "stdout",
     "output_type": "stream",
     "text": [
      "Test set: Average loss: 0.0508, Accuracy: 9829/10000 (98.29%)\n",
      "\n",
      "Adjusting learning rate of group 0 to 1.0000e-01.\n",
      "Epoch 3\n"
     ]
    },
    {
     "name": "stderr",
     "output_type": "stream",
     "text": [
      "Train: Loss=0.0226 Batch_id=117 Accuracy=98.68: 100%|█| 1\n"
     ]
    },
    {
     "name": "stdout",
     "output_type": "stream",
     "text": [
      "Test set: Average loss: 0.0364, Accuracy: 9871/10000 (98.71%)\n",
      "\n",
      "Adjusting learning rate of group 0 to 1.0000e-01.\n",
      "Epoch 4\n"
     ]
    },
    {
     "name": "stderr",
     "output_type": "stream",
     "text": [
      "Train: Loss=0.0141 Batch_id=117 Accuracy=98.85: 100%|█| 1\n"
     ]
    },
    {
     "name": "stdout",
     "output_type": "stream",
     "text": [
      "Test set: Average loss: 0.0403, Accuracy: 9874/10000 (98.74%)\n",
      "\n",
      "Adjusting learning rate of group 0 to 1.0000e-01.\n",
      "Epoch 5\n"
     ]
    },
    {
     "name": "stderr",
     "output_type": "stream",
     "text": [
      "Train: Loss=0.0440 Batch_id=117 Accuracy=98.99: 100%|█| 1\n"
     ]
    },
    {
     "name": "stdout",
     "output_type": "stream",
     "text": [
      "Test set: Average loss: 0.0361, Accuracy: 9888/10000 (98.88%)\n",
      "\n",
      "Adjusting learning rate of group 0 to 1.0000e-02.\n",
      "Epoch 6\n"
     ]
    },
    {
     "name": "stderr",
     "output_type": "stream",
     "text": [
      "Train: Loss=0.0217 Batch_id=117 Accuracy=99.30: 100%|█| 1\n"
     ]
    },
    {
     "name": "stdout",
     "output_type": "stream",
     "text": [
      "Test set: Average loss: 0.0295, Accuracy: 9905/10000 (99.05%)\n",
      "\n",
      "Adjusting learning rate of group 0 to 1.0000e-02.\n",
      "Epoch 7\n"
     ]
    },
    {
     "name": "stderr",
     "output_type": "stream",
     "text": [
      "Train: Loss=0.0098 Batch_id=117 Accuracy=99.37: 100%|█| 1\n"
     ]
    },
    {
     "name": "stdout",
     "output_type": "stream",
     "text": [
      "Test set: Average loss: 0.0283, Accuracy: 9913/10000 (99.13%)\n",
      "\n",
      "Adjusting learning rate of group 0 to 1.0000e-02.\n",
      "Epoch 8\n"
     ]
    },
    {
     "name": "stderr",
     "output_type": "stream",
     "text": [
      "Train: Loss=0.0069 Batch_id=117 Accuracy=99.42: 100%|█| 1\n"
     ]
    },
    {
     "name": "stdout",
     "output_type": "stream",
     "text": [
      "Test set: Average loss: 0.0291, Accuracy: 9903/10000 (99.03%)\n",
      "\n",
      "Adjusting learning rate of group 0 to 1.0000e-02.\n",
      "Epoch 9\n"
     ]
    },
    {
     "name": "stderr",
     "output_type": "stream",
     "text": [
      "Train: Loss=0.0135 Batch_id=117 Accuracy=99.40: 100%|█| 1\n"
     ]
    },
    {
     "name": "stdout",
     "output_type": "stream",
     "text": [
      "Test set: Average loss: 0.0286, Accuracy: 9908/10000 (99.08%)\n",
      "\n",
      "Adjusting learning rate of group 0 to 1.0000e-02.\n",
      "Epoch 10\n"
     ]
    },
    {
     "name": "stderr",
     "output_type": "stream",
     "text": [
      "Train: Loss=0.0017 Batch_id=117 Accuracy=99.44: 100%|█| 1\n"
     ]
    },
    {
     "name": "stdout",
     "output_type": "stream",
     "text": [
      "Test set: Average loss: 0.0291, Accuracy: 9909/10000 (99.09%)\n",
      "\n",
      "Adjusting learning rate of group 0 to 1.0000e-03.\n",
      "Epoch 11\n"
     ]
    },
    {
     "name": "stderr",
     "output_type": "stream",
     "text": [
      "Train: Loss=0.0128 Batch_id=117 Accuracy=99.45: 100%|█| 1\n"
     ]
    },
    {
     "name": "stdout",
     "output_type": "stream",
     "text": [
      "Test set: Average loss: 0.0289, Accuracy: 9910/10000 (99.10%)\n",
      "\n",
      "Adjusting learning rate of group 0 to 1.0000e-03.\n",
      "Epoch 12\n"
     ]
    },
    {
     "name": "stderr",
     "output_type": "stream",
     "text": [
      "Train: Loss=0.1155 Batch_id=117 Accuracy=99.42: 100%|█| 1\n"
     ]
    },
    {
     "name": "stdout",
     "output_type": "stream",
     "text": [
      "Test set: Average loss: 0.0286, Accuracy: 9909/10000 (99.09%)\n",
      "\n",
      "Adjusting learning rate of group 0 to 1.0000e-03.\n",
      "Epoch 13\n"
     ]
    },
    {
     "name": "stderr",
     "output_type": "stream",
     "text": [
      "Train: Loss=0.0124 Batch_id=117 Accuracy=99.44: 100%|█| 1\n"
     ]
    },
    {
     "name": "stdout",
     "output_type": "stream",
     "text": [
      "Test set: Average loss: 0.0284, Accuracy: 9906/10000 (99.06%)\n",
      "\n",
      "Adjusting learning rate of group 0 to 1.0000e-03.\n",
      "Epoch 14\n"
     ]
    },
    {
     "name": "stderr",
     "output_type": "stream",
     "text": [
      "Train: Loss=0.0116 Batch_id=117 Accuracy=99.47: 100%|█| 1\n"
     ]
    },
    {
     "name": "stdout",
     "output_type": "stream",
     "text": [
      "Test set: Average loss: 0.0290, Accuracy: 9906/10000 (99.06%)\n",
      "\n",
      "Adjusting learning rate of group 0 to 1.0000e-03.\n",
      "Epoch 15\n"
     ]
    },
    {
     "name": "stderr",
     "output_type": "stream",
     "text": [
      "Train: Loss=0.0299 Batch_id=117 Accuracy=99.49: 100%|█| 1\n"
     ]
    },
    {
     "name": "stdout",
     "output_type": "stream",
     "text": [
      "Test set: Average loss: 0.0286, Accuracy: 9906/10000 (99.06%)\n",
      "\n",
      "Adjusting learning rate of group 0 to 1.0000e-04.\n"
     ]
    }
   ],
   "source": [
    "optimizer = optim.SGD(my_model.parameters(), lr=0.1, momentum=0.9)\n",
    "scheduler = optim.lr_scheduler.StepLR(optimizer, step_size=5, gamma=0.1, verbose=True)\n",
    "# New Line\n",
    "#criterion = nn.CrossEntropyLoss()\n",
    "criterion = F.nll_loss\n",
    "num_epochs = 15\n",
    "\n",
    "for epoch in range(1, num_epochs+1):\n",
    "    print(f'Epoch {epoch}')\n",
    "    train_acc, train_losses = model_train(my_model, \n",
    "                                        device, \n",
    "                                        train_loader,\n",
    "                                        optimizer, \n",
    "                                        criterion, \n",
    "                                        train_acc,\n",
    "                                        train_losses,)\n",
    "    test_acc, test_losses = model_test(my_model, \n",
    "                                     device, \n",
    "                                     test_loader, \n",
    "                                     criterion,\n",
    "                                     test_acc,\n",
    "                                     test_losses)\n",
    "    scheduler.step()"
   ]
  },
  {
   "cell_type": "markdown",
   "metadata": {},
   "source": [
    "#### Results:\n",
    "- Parameters: 7,322, best train accuracy: 99.49. best test accuracy: 99.13\n",
    "\n",
    "\n",
    "#### Analysis:\n",
    "- Reduced over fitting Need to increase model complexity"
   ]
  },
  {
   "cell_type": "markdown",
   "metadata": {},
   "source": [
    "# model_3\n",
    "- Target:  Improve accuracy,\n",
    "- Added FC layers at the tail end"
   ]
  },
  {
   "cell_type": "code",
   "execution_count": 6,
   "metadata": {},
   "outputs": [
    {
     "name": "stdout",
     "output_type": "stream",
     "text": [
      "----------------------------------------------------------------\n",
      "        Layer (type)               Output Shape         Param #\n",
      "================================================================\n",
      "            Conv2d-1           [-1, 16, 26, 26]             144\n",
      "              ReLU-2           [-1, 16, 26, 26]               0\n",
      "         MaxPool2d-3           [-1, 16, 13, 13]               0\n",
      "       BatchNorm2d-4           [-1, 16, 13, 13]              32\n",
      "           Dropout-5           [-1, 16, 13, 13]               0\n",
      "            Conv2d-6           [-1, 16, 11, 11]           2,304\n",
      "              ReLU-7           [-1, 16, 11, 11]               0\n",
      "         MaxPool2d-8             [-1, 16, 5, 5]               0\n",
      "       BatchNorm2d-9             [-1, 16, 5, 5]              32\n",
      "           Conv2d-10             [-1, 16, 3, 3]           2,304\n",
      "             ReLU-11             [-1, 16, 3, 3]               0\n",
      "      BatchNorm2d-12             [-1, 16, 3, 3]              32\n",
      "           Conv2d-13             [-1, 16, 1, 1]           2,304\n",
      "             ReLU-14             [-1, 16, 1, 1]               0\n",
      "      BatchNorm2d-15             [-1, 16, 1, 1]              32\n",
      "           Linear-16                   [-1, 10]             170\n",
      "             ReLU-17                   [-1, 10]               0\n",
      "================================================================\n",
      "Total params: 7,354\n",
      "Trainable params: 7,354\n",
      "Non-trainable params: 0\n",
      "----------------------------------------------------------------\n",
      "Input size (MB): 0.00\n",
      "Forward/backward pass size (MB): 0.27\n",
      "Params size (MB): 0.03\n",
      "Estimated Total Size (MB): 0.30\n",
      "----------------------------------------------------------------\n"
     ]
    }
   ],
   "source": [
    "device = \"cpu\"\n",
    "my_model = model_3().to(device)\n",
    "model_summary(my_model,(1,28,28))"
   ]
  },
  {
   "cell_type": "code",
   "execution_count": 7,
   "metadata": {},
   "outputs": [
    {
     "name": "stdout",
     "output_type": "stream",
     "text": [
      "Adjusting learning rate of group 0 to 1.0000e-01.\n",
      "Epoch 1\n"
     ]
    },
    {
     "name": "stderr",
     "output_type": "stream",
     "text": [
      "Train: Loss=0.0576 Batch_id=117 Accuracy=93.39: 100%|█| 1\n"
     ]
    },
    {
     "name": "stdout",
     "output_type": "stream",
     "text": [
      "Test set: Average loss: 0.0506, Accuracy: 9842/10000 (98.42%)\n",
      "\n",
      "Adjusting learning rate of group 0 to 1.0000e-01.\n",
      "Epoch 2\n"
     ]
    },
    {
     "name": "stderr",
     "output_type": "stream",
     "text": [
      "Train: Loss=0.1128 Batch_id=117 Accuracy=98.25: 100%|█| 1\n"
     ]
    },
    {
     "name": "stdout",
     "output_type": "stream",
     "text": [
      "Test set: Average loss: 0.0440, Accuracy: 9859/10000 (98.59%)\n",
      "\n",
      "Adjusting learning rate of group 0 to 1.0000e-01.\n",
      "Epoch 3\n"
     ]
    },
    {
     "name": "stderr",
     "output_type": "stream",
     "text": [
      "Train: Loss=0.0420 Batch_id=117 Accuracy=98.69: 100%|█| 1\n"
     ]
    },
    {
     "name": "stdout",
     "output_type": "stream",
     "text": [
      "Test set: Average loss: 0.0389, Accuracy: 9876/10000 (98.76%)\n",
      "\n",
      "Adjusting learning rate of group 0 to 1.0000e-01.\n",
      "Epoch 4\n"
     ]
    },
    {
     "name": "stderr",
     "output_type": "stream",
     "text": [
      "Train: Loss=0.0176 Batch_id=117 Accuracy=98.87: 100%|█| 1\n"
     ]
    },
    {
     "name": "stdout",
     "output_type": "stream",
     "text": [
      "Test set: Average loss: 0.0352, Accuracy: 9887/10000 (98.87%)\n",
      "\n",
      "Adjusting learning rate of group 0 to 1.0000e-01.\n",
      "Epoch 5\n"
     ]
    },
    {
     "name": "stderr",
     "output_type": "stream",
     "text": [
      "Train: Loss=0.0358 Batch_id=117 Accuracy=99.01: 100%|█| 1\n"
     ]
    },
    {
     "name": "stdout",
     "output_type": "stream",
     "text": [
      "Test set: Average loss: 0.0340, Accuracy: 9883/10000 (98.83%)\n",
      "\n",
      "Adjusting learning rate of group 0 to 1.0000e-02.\n",
      "Epoch 6\n"
     ]
    },
    {
     "name": "stderr",
     "output_type": "stream",
     "text": [
      "Train: Loss=0.0086 Batch_id=117 Accuracy=99.29: 100%|█| 1\n"
     ]
    },
    {
     "name": "stdout",
     "output_type": "stream",
     "text": [
      "Test set: Average loss: 0.0269, Accuracy: 9911/10000 (99.11%)\n",
      "\n",
      "Adjusting learning rate of group 0 to 1.0000e-02.\n",
      "Epoch 7\n"
     ]
    },
    {
     "name": "stderr",
     "output_type": "stream",
     "text": [
      "Train: Loss=0.0101 Batch_id=117 Accuracy=99.36: 100%|█| 1\n"
     ]
    },
    {
     "name": "stdout",
     "output_type": "stream",
     "text": [
      "Test set: Average loss: 0.0261, Accuracy: 9916/10000 (99.16%)\n",
      "\n",
      "Adjusting learning rate of group 0 to 1.0000e-02.\n",
      "Epoch 8\n"
     ]
    },
    {
     "name": "stderr",
     "output_type": "stream",
     "text": [
      "Train: Loss=0.0070 Batch_id=117 Accuracy=99.42: 100%|█| 1\n"
     ]
    },
    {
     "name": "stdout",
     "output_type": "stream",
     "text": [
      "Test set: Average loss: 0.0260, Accuracy: 9917/10000 (99.17%)\n",
      "\n",
      "Adjusting learning rate of group 0 to 1.0000e-02.\n",
      "Epoch 9\n"
     ]
    },
    {
     "name": "stderr",
     "output_type": "stream",
     "text": [
      "Train: Loss=0.0690 Batch_id=117 Accuracy=99.41: 100%|█| 1\n"
     ]
    },
    {
     "name": "stdout",
     "output_type": "stream",
     "text": [
      "Test set: Average loss: 0.0252, Accuracy: 9917/10000 (99.17%)\n",
      "\n",
      "Adjusting learning rate of group 0 to 1.0000e-02.\n",
      "Epoch 10\n"
     ]
    },
    {
     "name": "stderr",
     "output_type": "stream",
     "text": [
      "Train: Loss=0.0307 Batch_id=117 Accuracy=99.44: 100%|█| 1\n"
     ]
    },
    {
     "name": "stdout",
     "output_type": "stream",
     "text": [
      "Test set: Average loss: 0.0256, Accuracy: 9913/10000 (99.13%)\n",
      "\n",
      "Adjusting learning rate of group 0 to 1.0000e-03.\n",
      "Epoch 11\n"
     ]
    },
    {
     "name": "stderr",
     "output_type": "stream",
     "text": [
      "Train: Loss=0.0559 Batch_id=117 Accuracy=99.46: 100%|█| 1\n"
     ]
    },
    {
     "name": "stdout",
     "output_type": "stream",
     "text": [
      "Test set: Average loss: 0.0251, Accuracy: 9916/10000 (99.16%)\n",
      "\n",
      "Adjusting learning rate of group 0 to 1.0000e-03.\n",
      "Epoch 12\n"
     ]
    },
    {
     "name": "stderr",
     "output_type": "stream",
     "text": [
      "Train: Loss=0.0077 Batch_id=117 Accuracy=99.48: 100%|█| 1\n"
     ]
    },
    {
     "name": "stdout",
     "output_type": "stream",
     "text": [
      "Test set: Average loss: 0.0255, Accuracy: 9913/10000 (99.13%)\n",
      "\n",
      "Adjusting learning rate of group 0 to 1.0000e-03.\n",
      "Epoch 13\n"
     ]
    },
    {
     "name": "stderr",
     "output_type": "stream",
     "text": [
      "Train: Loss=0.0331 Batch_id=117 Accuracy=99.45: 100%|█| 1\n"
     ]
    },
    {
     "name": "stdout",
     "output_type": "stream",
     "text": [
      "Test set: Average loss: 0.0252, Accuracy: 9915/10000 (99.15%)\n",
      "\n",
      "Adjusting learning rate of group 0 to 1.0000e-03.\n",
      "Epoch 14\n"
     ]
    },
    {
     "name": "stderr",
     "output_type": "stream",
     "text": [
      "Train: Loss=0.0101 Batch_id=117 Accuracy=99.48: 100%|█| 1\n"
     ]
    },
    {
     "name": "stdout",
     "output_type": "stream",
     "text": [
      "Test set: Average loss: 0.0253, Accuracy: 9919/10000 (99.19%)\n",
      "\n",
      "Adjusting learning rate of group 0 to 1.0000e-03.\n",
      "Epoch 15\n"
     ]
    },
    {
     "name": "stderr",
     "output_type": "stream",
     "text": [
      "Train: Loss=0.0587 Batch_id=117 Accuracy=99.47: 100%|█| 1\n"
     ]
    },
    {
     "name": "stdout",
     "output_type": "stream",
     "text": [
      "Test set: Average loss: 0.0256, Accuracy: 9913/10000 (99.13%)\n",
      "\n",
      "Adjusting learning rate of group 0 to 1.0000e-04.\n"
     ]
    }
   ],
   "source": [
    "optimizer = optim.SGD(my_model.parameters(), lr=0.1, momentum=0.9)\n",
    "scheduler = optim.lr_scheduler.StepLR(optimizer, step_size=5, gamma=0.1, verbose=True)\n",
    "# New Line\n",
    "#criterion = nn.CrossEntropyLoss()\n",
    "criterion = F.nll_loss\n",
    "num_epochs = 15\n",
    "\n",
    "for epoch in range(1, num_epochs+1):\n",
    "    print(f'Epoch {epoch}')\n",
    "    train_acc, train_losses = model_train(my_model, \n",
    "                                        device, \n",
    "                                        train_loader,\n",
    "                                        optimizer, \n",
    "                                        criterion, \n",
    "                                        train_acc,\n",
    "                                        train_losses,)\n",
    "    test_acc, test_losses = model_test(my_model, \n",
    "                                     device, \n",
    "                                     test_loader, \n",
    "                                     criterion,\n",
    "                                     test_acc,\n",
    "                                     test_losses)\n",
    "    scheduler.step()"
   ]
  },
  {
   "cell_type": "markdown",
   "metadata": {},
   "source": [
    "# model_3\n",
    "- Target:  Improve accuracy,\n",
    "- Added FC layers at the tail end\n",
    "#### Results:\n",
    "- Parameters: 7,464, best train accuracy: 99.47. best test accuracy: 99.19\n",
    "\n",
    "#### Analysis:\n",
    "- Did not work out, model_1 is still better. Try data augmentation with model_1"
   ]
  },
  {
   "cell_type": "markdown",
   "metadata": {},
   "source": [
    "# model_1 with data augmentation\n",
    "- Target:  Improve accuracy,\n",
    "- Added FC layers at the tail end\n",
    "#### Results:\n",
    "- Parameters: 7,464, best train accuracy: 99.47. best test accuracy: 99.19\n",
    "\n",
    "#### Analysis:\n",
    "- Did not work out, model_1 is still better. Try data augmentation with model_1"
   ]
  },
  {
   "cell_type": "code",
   "execution_count": 6,
   "metadata": {},
   "outputs": [
    {
     "name": "stdout",
     "output_type": "stream",
     "text": [
      "----------------------------------------------------------------\n",
      "        Layer (type)               Output Shape         Param #\n",
      "================================================================\n",
      "            Conv2d-1           [-1, 16, 26, 26]             144\n",
      "              ReLU-2           [-1, 16, 26, 26]               0\n",
      "         MaxPool2d-3           [-1, 16, 13, 13]               0\n",
      "       BatchNorm2d-4           [-1, 16, 13, 13]              32\n",
      "            Conv2d-5           [-1, 16, 11, 11]           2,304\n",
      "              ReLU-6           [-1, 16, 11, 11]               0\n",
      "         MaxPool2d-7             [-1, 16, 5, 5]               0\n",
      "       BatchNorm2d-8             [-1, 16, 5, 5]              32\n",
      "            Conv2d-9             [-1, 16, 3, 3]           2,304\n",
      "             ReLU-10             [-1, 16, 3, 3]               0\n",
      "           Conv2d-11             [-1, 16, 1, 1]           2,304\n",
      "             ReLU-12             [-1, 16, 1, 1]               0\n",
      "      BatchNorm2d-13             [-1, 16, 1, 1]              32\n",
      "           Linear-14                   [-1, 10]             170\n",
      "             ReLU-15                   [-1, 10]               0\n",
      "================================================================\n",
      "Total params: 7,322\n",
      "Trainable params: 7,322\n",
      "Non-trainable params: 0\n",
      "----------------------------------------------------------------\n",
      "Input size (MB): 0.00\n",
      "Forward/backward pass size (MB): 0.24\n",
      "Params size (MB): 0.03\n",
      "Estimated Total Size (MB): 0.28\n",
      "----------------------------------------------------------------\n"
     ]
    }
   ],
   "source": [
    "device = \"cpu\"\n",
    "my_model = model_1().to(device)\n",
    "model_summary(my_model,(1,28,28))"
   ]
  },
  {
   "cell_type": "code",
   "execution_count": 7,
   "metadata": {},
   "outputs": [
    {
     "name": "stdout",
     "output_type": "stream",
     "text": [
      "Adjusting learning rate of group 0 to 1.0000e-01.\n",
      "Epoch 1\n"
     ]
    },
    {
     "name": "stderr",
     "output_type": "stream",
     "text": [
      "Train: Loss=0.0807 Batch_id=117 Accuracy=92.39: 100%|█| 1\n"
     ]
    },
    {
     "name": "stdout",
     "output_type": "stream",
     "text": [
      "Test set: Average loss: 0.0848, Accuracy: 9723/10000 (97.23%)\n",
      "\n",
      "Adjusting learning rate of group 0 to 1.0000e-01.\n",
      "Epoch 2\n"
     ]
    },
    {
     "name": "stderr",
     "output_type": "stream",
     "text": [
      "Train: Loss=0.0852 Batch_id=117 Accuracy=97.75: 100%|█| 1\n"
     ]
    },
    {
     "name": "stdout",
     "output_type": "stream",
     "text": [
      "Test set: Average loss: 0.0427, Accuracy: 9854/10000 (98.54%)\n",
      "\n",
      "Adjusting learning rate of group 0 to 1.0000e-01.\n",
      "Epoch 3\n"
     ]
    },
    {
     "name": "stderr",
     "output_type": "stream",
     "text": [
      "Train: Loss=0.0076 Batch_id=117 Accuracy=98.21: 100%|█| 1\n"
     ]
    },
    {
     "name": "stdout",
     "output_type": "stream",
     "text": [
      "Test set: Average loss: 0.0305, Accuracy: 9896/10000 (98.96%)\n",
      "\n",
      "Adjusting learning rate of group 0 to 1.0000e-01.\n",
      "Epoch 4\n"
     ]
    },
    {
     "name": "stderr",
     "output_type": "stream",
     "text": [
      "Train: Loss=0.0542 Batch_id=117 Accuracy=98.43: 100%|█| 1\n"
     ]
    },
    {
     "name": "stdout",
     "output_type": "stream",
     "text": [
      "Test set: Average loss: 0.0353, Accuracy: 9881/10000 (98.81%)\n",
      "\n",
      "Adjusting learning rate of group 0 to 1.0000e-01.\n",
      "Epoch 5\n"
     ]
    },
    {
     "name": "stderr",
     "output_type": "stream",
     "text": [
      "Train: Loss=0.1316 Batch_id=117 Accuracy=98.53: 100%|█| 1\n"
     ]
    },
    {
     "name": "stdout",
     "output_type": "stream",
     "text": [
      "Test set: Average loss: 0.0362, Accuracy: 9896/10000 (98.96%)\n",
      "\n",
      "Adjusting learning rate of group 0 to 1.0000e-02.\n",
      "Epoch 6\n"
     ]
    },
    {
     "name": "stderr",
     "output_type": "stream",
     "text": [
      "Train: Loss=0.0099 Batch_id=117 Accuracy=98.86: 100%|█| 1\n"
     ]
    },
    {
     "name": "stdout",
     "output_type": "stream",
     "text": [
      "Test set: Average loss: 0.0257, Accuracy: 9925/10000 (99.25%)\n",
      "\n",
      "Adjusting learning rate of group 0 to 1.0000e-02.\n",
      "Epoch 7\n"
     ]
    },
    {
     "name": "stderr",
     "output_type": "stream",
     "text": [
      "Train: Loss=0.0127 Batch_id=117 Accuracy=98.99: 100%|█| 1\n"
     ]
    },
    {
     "name": "stdout",
     "output_type": "stream",
     "text": [
      "Test set: Average loss: 0.0255, Accuracy: 9928/10000 (99.28%)\n",
      "\n",
      "Adjusting learning rate of group 0 to 1.0000e-02.\n",
      "Epoch 8\n"
     ]
    },
    {
     "name": "stderr",
     "output_type": "stream",
     "text": [
      "Train: Loss=0.0716 Batch_id=117 Accuracy=99.00: 100%|█| 1\n"
     ]
    },
    {
     "name": "stdout",
     "output_type": "stream",
     "text": [
      "Test set: Average loss: 0.0249, Accuracy: 9925/10000 (99.25%)\n",
      "\n",
      "Adjusting learning rate of group 0 to 1.0000e-02.\n",
      "Epoch 9\n"
     ]
    },
    {
     "name": "stderr",
     "output_type": "stream",
     "text": [
      "Train: Loss=0.0258 Batch_id=117 Accuracy=99.04: 100%|█| 1\n"
     ]
    },
    {
     "name": "stdout",
     "output_type": "stream",
     "text": [
      "Test set: Average loss: 0.0254, Accuracy: 9923/10000 (99.23%)\n",
      "\n",
      "Adjusting learning rate of group 0 to 1.0000e-02.\n",
      "Epoch 10\n"
     ]
    },
    {
     "name": "stderr",
     "output_type": "stream",
     "text": [
      "Train: Loss=0.0378 Batch_id=117 Accuracy=99.06: 100%|█| 1\n"
     ]
    },
    {
     "name": "stdout",
     "output_type": "stream",
     "text": [
      "Test set: Average loss: 0.0249, Accuracy: 9926/10000 (99.26%)\n",
      "\n",
      "Adjusting learning rate of group 0 to 1.0000e-03.\n",
      "Epoch 11\n"
     ]
    },
    {
     "name": "stderr",
     "output_type": "stream",
     "text": [
      "Train: Loss=0.0168 Batch_id=117 Accuracy=99.05: 100%|█| 1\n"
     ]
    },
    {
     "name": "stdout",
     "output_type": "stream",
     "text": [
      "Test set: Average loss: 0.0246, Accuracy: 9923/10000 (99.23%)\n",
      "\n",
      "Adjusting learning rate of group 0 to 1.0000e-03.\n",
      "Epoch 12\n"
     ]
    },
    {
     "name": "stderr",
     "output_type": "stream",
     "text": [
      "Train: Loss=0.0408 Batch_id=117 Accuracy=99.10: 100%|█| 1\n"
     ]
    },
    {
     "name": "stdout",
     "output_type": "stream",
     "text": [
      "Test set: Average loss: 0.0244, Accuracy: 9923/10000 (99.23%)\n",
      "\n",
      "Adjusting learning rate of group 0 to 1.0000e-03.\n",
      "Epoch 13\n"
     ]
    },
    {
     "name": "stderr",
     "output_type": "stream",
     "text": [
      "Train: Loss=0.0108 Batch_id=117 Accuracy=99.14: 100%|█| 1\n"
     ]
    },
    {
     "name": "stdout",
     "output_type": "stream",
     "text": [
      "Test set: Average loss: 0.0249, Accuracy: 9928/10000 (99.28%)\n",
      "\n",
      "Adjusting learning rate of group 0 to 1.0000e-03.\n",
      "Epoch 14\n"
     ]
    },
    {
     "name": "stderr",
     "output_type": "stream",
     "text": [
      "Train: Loss=0.1136 Batch_id=117 Accuracy=99.05: 100%|█| 1\n"
     ]
    },
    {
     "name": "stdout",
     "output_type": "stream",
     "text": [
      "Test set: Average loss: 0.0245, Accuracy: 9925/10000 (99.25%)\n",
      "\n",
      "Adjusting learning rate of group 0 to 1.0000e-03.\n",
      "Epoch 15\n"
     ]
    },
    {
     "name": "stderr",
     "output_type": "stream",
     "text": [
      "Train: Loss=0.0126 Batch_id=117 Accuracy=99.06: 100%|█| 1\n"
     ]
    },
    {
     "name": "stdout",
     "output_type": "stream",
     "text": [
      "Test set: Average loss: 0.0244, Accuracy: 9929/10000 (99.29%)\n",
      "\n",
      "Adjusting learning rate of group 0 to 1.0000e-04.\n"
     ]
    }
   ],
   "source": [
    "optimizer = optim.SGD(my_model.parameters(), lr=0.1, momentum=0.9)\n",
    "scheduler = optim.lr_scheduler.StepLR(optimizer, step_size=5, gamma=0.1, verbose=True)\n",
    "# New Line\n",
    "#criterion = nn.CrossEntropyLoss()\n",
    "criterion = F.nll_loss\n",
    "num_epochs = 15\n",
    "\n",
    "for epoch in range(1, num_epochs+1):\n",
    "    print(f'Epoch {epoch}')\n",
    "    train_acc, train_losses = model_train(my_model, \n",
    "                                        device, \n",
    "                                        train_loader,\n",
    "                                        optimizer, \n",
    "                                        criterion, \n",
    "                                        train_acc,\n",
    "                                        train_losses,)\n",
    "    test_acc, test_losses = model_test(my_model, \n",
    "                                     device, \n",
    "                                     test_loader, \n",
    "                                     criterion,\n",
    "                                     test_acc,\n",
    "                                     test_losses)\n",
    "    scheduler.step()"
   ]
  },
  {
   "cell_type": "code",
   "execution_count": null,
   "metadata": {
    "collapsed": true
   },
   "outputs": [],
   "source": [
    "best "
   ]
  }
 ],
 "metadata": {
  "kernelspec": {
   "display_name": "Python 3 (ipykernel)",
   "language": "python",
   "name": "python3"
  },
  "language_info": {
   "codemirror_mode": {
    "name": "ipython",
    "version": 3
   },
   "file_extension": ".py",
   "mimetype": "text/x-python",
   "name": "python",
   "nbconvert_exporter": "python",
   "pygments_lexer": "ipython3",
   "version": "3.10.6"
  }
 },
 "nbformat": 4,
 "nbformat_minor": 2
}
