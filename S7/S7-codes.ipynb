{
 "cells": [
  {
   "cell_type": "code",
   "execution_count": 1,
   "metadata": {},
   "outputs": [],
   "source": [
    "import torch\n",
    "import torch.optim as optim\n",
    "import torch.nn.functional as F\n",
    "from torchvision import datasets, transforms\n",
    "\n",
    "import utils as utils\n",
    "import model as model\n",
    "from model import (\n",
    "    model_0,\n",
    "    model_1,\n",
    "    model_1_4,\n",
    "    model_2,\n",
    "    model_3,\n",
    "    model_summary,\n",
    "    model_train,\n",
    "    model_test,\n",
    ")"
   ]
  },
  {
   "cell_type": "markdown",
   "metadata": {},
   "source": [
    "### Model_0"
   ]
  },
  {
   "cell_type": "code",
   "execution_count": 2,
   "metadata": {},
   "outputs": [
    {
     "name": "stdout",
     "output_type": "stream",
     "text": [
      "----------------------------------------------------------------\n",
      "        Layer (type)               Output Shape         Param #\n",
      "================================================================\n",
      "            Conv2d-1           [-1, 16, 26, 26]             144\n",
      "              ReLU-2           [-1, 16, 26, 26]               0\n",
      "         MaxPool2d-3           [-1, 16, 13, 13]               0\n",
      "            Conv2d-4           [-1, 16, 11, 11]           2,304\n",
      "              ReLU-5           [-1, 16, 11, 11]               0\n",
      "         MaxPool2d-6             [-1, 16, 5, 5]               0\n",
      "            Conv2d-7             [-1, 16, 3, 3]           2,304\n",
      "              ReLU-8             [-1, 16, 3, 3]               0\n",
      "            Conv2d-9             [-1, 16, 1, 1]           2,304\n",
      "             ReLU-10             [-1, 16, 1, 1]               0\n",
      "           Linear-11                   [-1, 10]             170\n",
      "             ReLU-12                   [-1, 10]               0\n",
      "================================================================\n",
      "Total params: 7,226\n",
      "Trainable params: 7,226\n",
      "Non-trainable params: 0\n",
      "----------------------------------------------------------------\n",
      "Input size (MB): 0.00\n",
      "Forward/backward pass size (MB): 0.22\n",
      "Params size (MB): 0.03\n",
      "Estimated Total Size (MB): 0.25\n",
      "----------------------------------------------------------------\n"
     ]
    }
   ],
   "source": [
    "device = \"cpu\"\n",
    "my_model = model_0().to(device)\n",
    "model_summary(my_model,(1,28,28))"
   ]
  },
  {
   "cell_type": "code",
   "execution_count": 3,
   "metadata": {},
   "outputs": [],
   "source": [
    "# CUDA?\n",
    "#cuda = torch.cuda.is_available()\n",
    "#print(\"CUDA Available?\", cuda)"
   ]
  },
  {
   "cell_type": "markdown",
   "metadata": {},
   "source": [
    "##### Download the training and the test data"
   ]
  },
  {
   "cell_type": "code",
   "execution_count": 4,
   "metadata": {},
   "outputs": [],
   "source": [
    "train_data = datasets.MNIST('../data', train=True, download=True, transform=model.train_transforms())\n",
    "test_data = datasets.MNIST('../data', train=False, download=True, transform=model.test_transforms())"
   ]
  },
  {
   "cell_type": "markdown",
   "metadata": {},
   "source": [
    "##### Build the dataloaders"
   ]
  },
  {
   "cell_type": "code",
   "execution_count": 5,
   "metadata": {},
   "outputs": [],
   "source": [
    "batch_size = 512\n",
    "\n",
    "kwargs = {\n",
    "    \"batch_size\": batch_size,\n",
    "    \"shuffle\": True,\n",
    "    \"num_workers\": 2,\n",
    "    \"pin_memory\": True,\n",
    "}\n",
    "test_loader = torch.utils.data.DataLoader(test_data, **kwargs)\n",
    "train_loader = torch.utils.data.DataLoader(train_data, **kwargs)"
   ]
  },
  {
   "cell_type": "markdown",
   "metadata": {},
   "source": [
    "##### Look at some of the data"
   ]
  },
  {
   "cell_type": "code",
   "execution_count": 6,
   "metadata": {},
   "outputs": [
    {
     "data": {
      "image/png": "[encoded data removed]",
      "text/plain": [
       "<Figure size 640x480 with 12 Axes>"
      ]
     },
     "metadata": {},
     "output_type": "display_data"
    }
   ],
   "source": [
    "utils.return_dataset_images(train_loader, 12)"
   ]
  },
  {
   "cell_type": "markdown",
   "metadata": {},
   "source": [
    "##### Initialize variables to use in making plots later on"
   ]
  },
  {
   "cell_type": "code",
   "execution_count": 7,
   "metadata": {},
   "outputs": [],
   "source": [
    "# Data to plot accuracy and loss graphs\n",
    "train_losses = []\n",
    "test_losses = []\n",
    "train_acc = []\n",
    "test_acc = []\n",
    "\n",
    "test_incorrect_pred = {'images': [], 'ground_truths': [], 'predicted_vals': []}"
   ]
  },
  {
   "cell_type": "code",
   "execution_count": null,
   "metadata": {
    "scrolled": false
   },
   "outputs": [
    {
     "name": "stdout",
     "output_type": "stream",
     "text": [
      "Adjusting learning rate of group 0 to 1.0000e-01.\n",
      "Epoch 1\n"
     ]
    },
    {
     "name": "stderr",
     "output_type": "stream",
     "text": [
      "Train: Loss=0.6405 Batch_id=117 Accuracy=58.60: 100%|█| 118/118 [00:\n"
     ]
    },
    {
     "name": "stdout",
     "output_type": "stream",
     "text": [
      "Test set: Average loss: 0.5973, Accuracy: 7681/10000 (76.81%)\n",
      "\n",
      "Adjusting learning rate of group 0 to 1.0000e-01.\n",
      "Epoch 2\n"
     ]
    },
    {
     "name": "stderr",
     "output_type": "stream",
     "text": [
      "Train: Loss=0.2941 Batch_id=117 Accuracy=82.47: 100%|█| 118/118 [00:\n"
     ]
    },
    {
     "name": "stdout",
     "output_type": "stream",
     "text": [
      "Test set: Average loss: 0.3440, Accuracy: 8726/10000 (87.26%)\n",
      "\n",
      "Adjusting learning rate of group 0 to 1.0000e-01.\n",
      "Epoch 3\n"
     ]
    },
    {
     "name": "stderr",
     "output_type": "stream",
     "text": [
      "Train: Loss=0.2801 Batch_id=117 Accuracy=87.96: 100%|█| 118/118 [00:\n"
     ]
    },
    {
     "name": "stdout",
     "output_type": "stream",
     "text": [
      "Test set: Average loss: 0.2995, Accuracy: 8835/10000 (88.35%)\n",
      "\n",
      "Adjusting learning rate of group 0 to 1.0000e-01.\n",
      "Epoch 4\n"
     ]
    },
    {
     "name": "stderr",
     "output_type": "stream",
     "text": [
      "Train: Loss=0.1361 Batch_id=117 Accuracy=88.30: 100%|█| 118/118 [00:\n"
     ]
    },
    {
     "name": "stdout",
     "output_type": "stream",
     "text": [
      "Test set: Average loss: 0.2938, Accuracy: 8841/10000 (88.41%)\n",
      "\n",
      "Adjusting learning rate of group 0 to 1.0000e-01.\n",
      "Epoch 5\n"
     ]
    },
    {
     "name": "stderr",
     "output_type": "stream",
     "text": [
      "Train: Loss=0.2664 Batch_id=117 Accuracy=88.54: 100%|█| 118/118 [00:\n"
     ]
    },
    {
     "name": "stdout",
     "output_type": "stream",
     "text": [
      "Test set: Average loss: 0.2864, Accuracy: 8858/10000 (88.58%)\n",
      "\n",
      "Adjusting learning rate of group 0 to 1.0000e-02.\n",
      "Epoch 6\n"
     ]
    },
    {
     "name": "stderr",
     "output_type": "stream",
     "text": [
      "Train: Loss=0.1378 Batch_id=117 Accuracy=89.20: 100%|█| 118/118 [00:\n"
     ]
    },
    {
     "name": "stdout",
     "output_type": "stream",
     "text": [
      "Test set: Average loss: 0.2693, Accuracy: 8898/10000 (88.98%)\n",
      "\n",
      "Adjusting learning rate of group 0 to 1.0000e-02.\n",
      "Epoch 7\n"
     ]
    },
    {
     "name": "stderr",
     "output_type": "stream",
     "text": [
      "Train: Loss=0.2053 Batch_id=117 Accuracy=89.28: 100%|█| 118/118 [00:\n"
     ]
    },
    {
     "name": "stdout",
     "output_type": "stream",
     "text": [
      "Test set: Average loss: 0.2686, Accuracy: 8905/10000 (89.05%)\n",
      "\n",
      "Adjusting learning rate of group 0 to 1.0000e-02.\n",
      "Epoch 8\n"
     ]
    },
    {
     "name": "stderr",
     "output_type": "stream",
     "text": [
      "Train: Loss=0.1322 Batch_id=117 Accuracy=89.27: 100%|█| 118/118 [00:\n"
     ]
    },
    {
     "name": "stdout",
     "output_type": "stream",
     "text": [
      "Test set: Average loss: 0.2676, Accuracy: 8900/10000 (89.00%)\n",
      "\n",
      "Adjusting learning rate of group 0 to 1.0000e-02.\n",
      "Epoch 9\n"
     ]
    },
    {
     "name": "stderr",
     "output_type": "stream",
     "text": [
      "Train: Loss=0.3414 Batch_id=117 Accuracy=89.32: 100%|█| 118/118 [00:\n"
     ]
    },
    {
     "name": "stdout",
     "output_type": "stream",
     "text": [
      "Test set: Average loss: 0.2683, Accuracy: 8904/10000 (89.04%)\n",
      "\n",
      "Adjusting learning rate of group 0 to 1.0000e-02.\n",
      "Epoch 10\n"
     ]
    },
    {
     "name": "stderr",
     "output_type": "stream",
     "text": [
      "Train: Loss=0.2207 Batch_id=117 Accuracy=89.33: 100%|█| 118/118 [00:\n"
     ]
    },
    {
     "name": "stdout",
     "output_type": "stream",
     "text": [
      "Test set: Average loss: 0.2687, Accuracy: 8899/10000 (88.99%)\n",
      "\n",
      "Adjusting learning rate of group 0 to 1.0000e-03.\n",
      "Epoch 11\n"
     ]
    },
    {
     "name": "stderr",
     "output_type": "stream",
     "text": [
      "Train: Loss=0.1874 Batch_id=117 Accuracy=89.38: 100%|█| 118/118 [00:\n"
     ]
    },
    {
     "name": "stdout",
     "output_type": "stream",
     "text": [
      "Test set: Average loss: 0.2675, Accuracy: 8905/10000 (89.05%)\n",
      "\n",
      "Adjusting learning rate of group 0 to 1.0000e-03.\n",
      "Epoch 12\n"
     ]
    },
    {
     "name": "stderr",
     "output_type": "stream",
     "text": [
      "Train: Loss=0.2891 Batch_id=79 Accuracy=89.54:  67%|▋| 79/118 [00:04"
     ]
    }
   ],
   "source": [
    "optimizer = optim.SGD(my_model.parameters(), lr=0.1, momentum=0.9)\n",
    "scheduler = optim.lr_scheduler.StepLR(optimizer, step_size=5, gamma=0.1, verbose=True)\n",
    "# New Line\n",
    "#criterion = nn.CrossEntropyLoss()\n",
    "criterion = F.nll_loss\n",
    "num_epochs = 15\n",
    "\n",
    "for epoch in range(1, num_epochs+1):\n",
    "    print(f'Epoch {epoch}')\n",
    "    train_acc, train_losses = model_train(my_model, \n",
    "                                        device, \n",
    "                                        train_loader,\n",
    "                                        optimizer, \n",
    "                                        criterion, \n",
    "                                        train_acc,\n",
    "                                        train_losses,)\n",
    "    test_acc, test_losses = model_test(my_model, \n",
    "                                     device, \n",
    "                                     test_loader, \n",
    "                                     criterion,\n",
    "                                     test_acc,\n",
    "                                     test_losses)\n",
    "    scheduler.step()"
   ]
  },
  {
   "cell_type": "markdown",
   "metadata": {},
   "source": [
    "#### Base model: model_0\n",
    "- Target:  get the basic structure, a model that predicts something.\n",
    "-  Started with one conv block and then a fully connected layer,\n",
    "-  realized adding conv reduces number of parameters\n",
    "-  while increasing what the model learns. Kept adding conv blocks until close to 8000 parameters\n",
    "- Only this in augmentation: transforms.ToTensor(), transforms.Normalize((0.1307,), (0.3081,)),\n",
    "\n",
    "#### Results:\n",
    "- Parameters: 7,226, best train accuracy: 88.63. best test accuracy: 88.81\n",
    "\n",
    "#### Analysis:\n",
    "- Model is small, works.\n",
    "- Test accuracy is higher than train, most likely it is the case of summation over all batches idea.\n"
   ]
  },
  {
   "cell_type": "markdown",
   "metadata": {},
   "source": [
    "Reduce one convolution block"
   ]
  },
  {
   "cell_type": "code",
   "execution_count": null,
   "metadata": {},
   "outputs": [],
   "source": [
    "device = \"cpu\"\n",
    "model = model_2().to(device)\n",
    "model_summary(model,(1,28,28))"
   ]
  },
  {
   "cell_type": "markdown",
   "metadata": {},
   "source": [
    "##### Train a model"
   ]
  },
  {
   "cell_type": "code",
   "execution_count": null,
   "metadata": {},
   "outputs": [],
   "source": [
    "optimizer = optim.SGD(model.parameters(), lr=0.01, momentum=0.9)\n",
    "scheduler = optim.lr_scheduler.StepLR(optimizer, step_size=15, gamma=0.1, verbose=True)\n",
    "# New Line\n",
    "#criterion = nn.CrossEntropyLoss()\n",
    "criterion = F.nll_loss\n",
    "num_epochs = 15\n",
    "\n",
    "for epoch in range(1, num_epochs+1):\n",
    "    print(f'Epoch {epoch}')\n",
    "    train_acc, train_losses = model_train(model, \n",
    "                                        device, \n",
    "                                        train_loader,\n",
    "                                        optimizer, \n",
    "                                        criterion, \n",
    "                                        train_acc,\n",
    "                                        train_losses,)\n",
    "    test_acc, test_losses = model_test(model, \n",
    "                                     device, \n",
    "                                     test_loader, \n",
    "                                     criterion,\n",
    "                                     test_acc,\n",
    "                                     test_losses)\n",
    "    scheduler.step()"
   ]
  },
  {
   "cell_type": "markdown",
   "metadata": {},
   "source": [
    "##### Visualize the training performance "
   ]
  },
  {
   "cell_type": "code",
   "execution_count": null,
   "metadata": {},
   "outputs": [],
   "source": [
    "utils.plot_losses_accuracies(train_acc, train_losses, test_acc, test_losses,)"
   ]
  },
  {
   "cell_type": "markdown",
   "metadata": {},
   "source": [
    "### Step 2\n",
    "- Reduce model parameter even more"
   ]
  },
  {
   "cell_type": "code",
   "execution_count": null,
   "metadata": {},
   "outputs": [],
   "source": [
    "device = \"cpu\"\n",
    "model = model_3().to(device)\n",
    "model_summary(model,(1,28,28))"
   ]
  },
  {
   "cell_type": "markdown",
   "metadata": {},
   "source": [
    "### Train a model"
   ]
  },
  {
   "cell_type": "code",
   "execution_count": null,
   "metadata": {},
   "outputs": [],
   "source": [
    "optimizer = optim.SGD(model.parameters(), lr=0.1, momentum=0.9)\n",
    "scheduler = optim.lr_scheduler.StepLR(optimizer, step_size=5, gamma=0.1, verbose=True)\n",
    "# New Line\n",
    "#criterion = nn.CrossEntropyLoss()\n",
    "criterion = F.nll_loss\n",
    "num_epochs = 15\n",
    "\n",
    "for epoch in range(1, num_epochs+1):\n",
    "    print(f'Epoch {epoch}')\n",
    "    train_acc, train_losses = model_train(model, \n",
    "                                        device, \n",
    "                                        train_loader,\n",
    "                                        optimizer, \n",
    "                                        criterion, \n",
    "                                        train_acc,\n",
    "                                        train_losses,)\n",
    "    test_acc, test_losses = model_test(model, \n",
    "                                     device, \n",
    "                                     test_loader, \n",
    "                                     criterion,\n",
    "                                     test_acc,\n",
    "                                     test_losses)\n",
    "    scheduler.step()"
   ]
  },
  {
   "cell_type": "code",
   "execution_count": null,
   "metadata": {},
   "outputs": [],
   "source": [
    "98.58\n",
    "99.30\n",
    "moved max pool\n",
    "added a fully connected layer: 99.15\n",
    "increased outsize \n",
    "99.34"
   ]
  },
  {
   "cell_type": "code",
   "execution_count": null,
   "metadata": {},
   "outputs": [],
   "source": [
    "utils.plot_losses_accuracies(train_acc, train_losses, test_acc, test_losses,)"
   ]
  },
  {
   "cell_type": "code",
   "execution_count": null,
   "metadata": {},
   "outputs": [],
   "source": []
  }
 ],
 "metadata": {
  "kernelspec": {
   "display_name": "Python 3 (ipykernel)",
   "language": "python",
   "name": "python3"
  },
  "language_info": {
   "codemirror_mode": {
    "name": "ipython",
    "version": 3
   },
   "file_extension": ".py",
   "mimetype": "text/x-python",
   "name": "python",
   "nbconvert_exporter": "python",
   "pygments_lexer": "ipython3",
   "version": "3.10.6"
  }
 },
 "nbformat": 4,
 "nbformat_minor": 2
}
